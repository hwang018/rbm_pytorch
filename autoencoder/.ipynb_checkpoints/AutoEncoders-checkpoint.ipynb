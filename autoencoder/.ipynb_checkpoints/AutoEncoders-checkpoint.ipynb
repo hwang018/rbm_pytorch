{
 "cells": [
  {
   "cell_type": "markdown",
   "metadata": {
    "colab_type": "text",
    "id": "K4f4JG1gdKqj"
   },
   "source": [
    "# MovieLens-1M dataset recommendation\n",
    "Basic structure for autoencoder based recommendation model, to fill the sparse rating matrix with predicted ratings. When doing evaluation on test set, only the existing user-item pairs will be factored in the loss function. The result will be a full matrix with all the ratings, from there we can sort items to user and make top-k recommendations. This notebook include:\n",
    "1. Data preparation and methods in splitting datasets for recommendation train and test process.\n",
    "2. Structure of autoencoder.\n",
    "3. Search for hyperparameters and simple experiments on model structure."
   ]
  },
  {
   "cell_type": "code",
   "execution_count": 31,
   "metadata": {
    "colab": {
     "base_uri": "https://localhost:8080/",
     "height": 646
    },
    "colab_type": "code",
    "id": "rjOPzue7FCXJ",
    "outputId": "b0f0b631-51bf-49e8-9ad6-947a0bd3d832"
   },
   "outputs": [],
   "source": [
    "#download dataset\n",
    "#!wget \"http://files.grouplens.org/datasets/movielens/ml-100k.zip\"\n",
    "#!unzip ml-100k.zip"
   ]
  },
  {
   "cell_type": "code",
   "execution_count": 11,
   "metadata": {
    "colab": {},
    "colab_type": "code",
    "id": "_LvGeU1CeCtg"
   },
   "outputs": [],
   "source": [
    "import numpy as np\n",
    "import pandas as pd\n",
    "import torch\n",
    "import torch.nn as nn\n",
    "import torch.nn.parallel\n",
    "import torch.optim as optim\n",
    "import torch.utils.data\n",
    "from torch.autograd import Variable"
   ]
  },
  {
   "cell_type": "code",
   "execution_count": 28,
   "metadata": {
    "colab": {},
    "colab_type": "code",
    "id": "2usLKJBEgPE2"
   },
   "outputs": [],
   "source": [
    "# this train, test set contains all users' ratings, we split each person's ratings into train and test\n",
    "# hide a portion of items rated by each user as test set\n",
    "\n",
    "#training_set = pd.read_csv('ml-100k/u1.base', delimiter = '\\t',header=None)\n",
    "#test_set = pd.read_csv('ml-100k/u1.test', delimiter = '\\t',header=None)\n",
    "#training_set = np.array(training_set, dtype = 'int')\n",
    "#test_set = np.array(test_set, dtype = 'int')"
   ]
  },
  {
   "cell_type": "markdown",
   "metadata": {},
   "source": [
    "## General method to train-test split for recommender system\n",
    "For a train-test ratio of 0.8/0.2, from raw user-item-rating triplets, we split the records into 80/20 sets.\n",
    "Then we assemble both sets into matrix form (list of list), before converting to torch tensors.\n",
    "Note that torch tensor can only contain elements of 1 datatype (use float)."
   ]
  },
  {
   "cell_type": "code",
   "execution_count": 30,
   "metadata": {},
   "outputs": [],
   "source": [
    "import sys\n",
    "#insert search path for packages\n",
    "sys.path.insert(0, '../common/')\n",
    "import util as util\n",
    "import load_data as loader\n",
    "\n",
    "#not using book rating dataset, too large for local machine 16gb memory\n",
    "#config = {'ratings':'../dataset/BX-Book-Ratings.csv',\n",
    "#          'users':'../dataset/BX-Users.csv',\n",
    "#          'books':'../dataset/BX-Books.csv'}\n",
    "\n",
    "#ratings = loader.load_data(config)"
   ]
  },
  {
   "cell_type": "code",
   "execution_count": 32,
   "metadata": {},
   "outputs": [],
   "source": [
    "ratings = pd.read_csv('ml-1m/ratings.dat', delimiter = '::',header=None, engine='python')\n",
    "ratings = ratings.columns=['userid','itemid','rating','timestamp']"
   ]
  },
  {
   "cell_type": "code",
   "execution_count": 41,
   "metadata": {},
   "outputs": [],
   "source": [
    "from sklearn.model_selection import train_test_split\n",
    "# first we directly split the whole user-item pairs\n",
    "# next stage consider cross validation split, 5 fold split for example\n",
    "train, test = train_test_split(ratings, test_size=0.25, random_state=42)"
   ]
  },
  {
   "cell_type": "code",
   "execution_count": 101,
   "metadata": {},
   "outputs": [],
   "source": [
    "training_set = np.array(train, dtype = 'int')\n",
    "test_set = np.array(test, dtype = 'int')"
   ]
  },
  {
   "cell_type": "markdown",
   "metadata": {
    "colab_type": "text",
    "id": "zCf8HjSydk4s"
   },
   "source": [
    "## Getting the number of users and movies\n"
   ]
  },
  {
   "cell_type": "code",
   "execution_count": 102,
   "metadata": {
    "colab": {},
    "colab_type": "code",
    "id": "gPaGZqdniC5m"
   },
   "outputs": [],
   "source": [
    "nb_users = int(max(max(training_set[:,0]), max(test_set[:,0])))\n",
    "nb_movies = int(max(max(training_set[:,1]), max(test_set[:,1])))"
   ]
  },
  {
   "cell_type": "markdown",
   "metadata": {
    "colab_type": "text",
    "id": "J-w4-hVidlAm"
   },
   "source": [
    "## Converting the data into an array with users in lines and movies in columns\n"
   ]
  },
  {
   "cell_type": "code",
   "execution_count": 105,
   "metadata": {
    "colab": {},
    "colab_type": "code",
    "id": "-wASs2YFiDaa"
   },
   "outputs": [],
   "source": [
    "def convert(data):\n",
    "    new_data = []\n",
    "    for id_users in range(nb_users+1):\n",
    "        # each user's watched movies\n",
    "        # data[:,0], first column, all rows column users\n",
    "        id_items = data[:,1][data[:,0] == id_users]\n",
    "        # each user's rating for that item\n",
    "        id_ratings = data[:,2][data[:,0] == id_users]\n",
    "        ratings = np.zeros(nb_movies)\n",
    "        # the positions of these items are filled with ratings, creating the matrix\n",
    "        ratings[id_items-1] = id_ratings\n",
    "        new_data.append(list(ratings))\n",
    "    return new_data"
   ]
  },
  {
   "cell_type": "code",
   "execution_count": 106,
   "metadata": {},
   "outputs": [
    {
     "name": "stdout",
     "output_type": "stream",
     "text": [
      "CPU times: user 9.15 s, sys: 485 ms, total: 9.64 s\n",
      "Wall time: 9.65 s\n"
     ]
    }
   ],
   "source": [
    "%%time\n",
    "training_set = convert(training_set)\n",
    "test_set = convert(test_set)"
   ]
  },
  {
   "cell_type": "markdown",
   "metadata": {
    "colab_type": "text",
    "id": "AMmhuUpldlHo"
   },
   "source": [
    "## Converting the data into Torch tensors\n"
   ]
  },
  {
   "cell_type": "code",
   "execution_count": 111,
   "metadata": {
    "colab": {},
    "colab_type": "code",
    "id": "TwD-KD8yiEEw"
   },
   "outputs": [],
   "source": [
    "training_set = torch.FloatTensor(training_set)\n",
    "test_set = torch.FloatTensor(test_set)"
   ]
  },
  {
   "cell_type": "markdown",
   "metadata": {
    "colab_type": "text",
    "id": "6kkL8NkkdlZj"
   },
   "source": [
    "## Creating the architecture of the Neural Network\n"
   ]
  },
  {
   "cell_type": "code",
   "execution_count": 116,
   "metadata": {
    "colab": {},
    "colab_type": "code",
    "id": "oU2nyh76iE6M"
   },
   "outputs": [],
   "source": [
    "class SAE(nn.Module):\n",
    "    def __init__(self, ):\n",
    "        super(SAE, self).__init__()\n",
    "        self.fc1 = nn.Linear(nb_movies, 20)\n",
    "        self.fc2 = nn.Linear(20, 10)\n",
    "        self.fc3 = nn.Linear(10, 20)\n",
    "        self.fc4 = nn.Linear(20, nb_movies)\n",
    "        self.activation = nn.Sigmoid()\n",
    "    def forward(self, x):\n",
    "        x = self.activation(self.fc1(x))\n",
    "        x = self.activation(self.fc2(x))\n",
    "        x = self.activation(self.fc3(x))\n",
    "        x = self.fc4(x)\n",
    "        return x\n",
    "sae = SAE()\n",
    "criterion = nn.MSELoss()\n",
    "optimizer = optim.RMSprop(sae.parameters(), lr = 0.01, weight_decay = 0.5)"
   ]
  },
  {
   "cell_type": "markdown",
   "metadata": {
    "colab_type": "text",
    "id": "7gy59alAdloL"
   },
   "source": [
    "## Training the SAE\n"
   ]
  },
  {
   "cell_type": "code",
   "execution_count": 118,
   "metadata": {
    "colab": {
     "base_uri": "https://localhost:8080/",
     "height": 1000
    },
    "colab_type": "code",
    "id": "FEz9hRaciFTs",
    "outputId": "0f6ed0d0-09c4-46c0-bfe6-70031d76b491"
   },
   "outputs": [
    {
     "name": "stdout",
     "output_type": "stream",
     "text": [
      "epoch: 1 loss: tensor(0.9607)\n",
      "epoch: 2 loss: tensor(0.9584)\n",
      "epoch: 3 loss: tensor(0.9560)\n",
      "epoch: 4 loss: tensor(0.9548)\n",
      "epoch: 5 loss: tensor(0.9542)\n",
      "epoch: 6 loss: tensor(0.9527)\n",
      "epoch: 7 loss: tensor(0.9525)\n",
      "epoch: 8 loss: tensor(0.9492)\n",
      "epoch: 9 loss: tensor(0.9489)\n",
      "epoch: 10 loss: tensor(0.9479)\n",
      "epoch: 11 loss: tensor(0.9509)\n",
      "epoch: 12 loss: tensor(0.9518)\n",
      "epoch: 13 loss: tensor(0.9495)\n",
      "epoch: 14 loss: tensor(0.9489)\n",
      "epoch: 15 loss: tensor(0.9482)\n",
      "epoch: 16 loss: tensor(0.9477)\n",
      "epoch: 17 loss: tensor(0.9455)\n",
      "epoch: 18 loss: tensor(0.9451)\n",
      "epoch: 19 loss: tensor(0.9423)\n",
      "epoch: 20 loss: tensor(0.9411)\n",
      "epoch: 21 loss: tensor(0.9429)\n",
      "epoch: 22 loss: tensor(0.9438)\n",
      "epoch: 23 loss: tensor(0.9441)\n",
      "epoch: 24 loss: tensor(0.9416)\n",
      "epoch: 25 loss: tensor(0.9402)\n",
      "epoch: 26 loss: tensor(0.9390)\n",
      "epoch: 27 loss: tensor(0.9373)\n",
      "epoch: 28 loss: tensor(0.9377)\n",
      "epoch: 29 loss: tensor(0.9375)\n",
      "epoch: 30 loss: tensor(0.9349)\n"
     ]
    }
   ],
   "source": [
    "nb_epoch = 30\n",
    "for epoch in range(1, nb_epoch + 1):\n",
    "    train_loss = 0\n",
    "    s = 0.\n",
    "    # s is the number of users who rated at least 1 movies\n",
    "    for id_user in range(nb_users):\n",
    "        input = Variable(training_set[id_user]).unsqueeze(0)\n",
    "        target = input.clone()\n",
    "        if torch.sum(target.data > 0) > 0:\n",
    "            output = sae(input)\n",
    "            target.require_grad = False\n",
    "            output[target == 0] = 0\n",
    "            loss = criterion(output, target)\n",
    "            mean_corrector = nb_movies/float(torch.sum(target.data > 0) + 1e-10) #making this anyway not equal to 0, as this will be a denominator\n",
    "            #mean_corrector is the avg of the error, only considering the movies having ratings (non-zero ratings) for computing mean of error\n",
    "            loss.backward() # decide the direction the increment of weights\n",
    "            #this call will just computing all the gradients required\n",
    "            train_loss += np.sqrt(loss.data*mean_corrector)\n",
    "            s += 1.\n",
    "            optimizer.step() # decide the amount to update the weights\n",
    "            \n",
    "    print('epoch: '+str(epoch)+' loss: '+ str(train_loss/s))"
   ]
  },
  {
   "cell_type": "markdown",
   "metadata": {
    "colab_type": "text",
    "id": "Bak5uc8gd-gX"
   },
   "source": [
    "## Testing the SAE\n"
   ]
  },
  {
   "cell_type": "code",
   "execution_count": 119,
   "metadata": {
    "colab": {
     "base_uri": "https://localhost:8080/",
     "height": 34
    },
    "colab_type": "code",
    "id": "5ztvzYRtiGCz",
    "outputId": "d0e8ea8b-9ac4-40e5-a19a-7fcfc6934d61"
   },
   "outputs": [
    {
     "name": "stdout",
     "output_type": "stream",
     "text": [
      "test loss: tensor(0.9617)\n"
     ]
    }
   ],
   "source": [
    "test_loss = 0\n",
    "s = 0.\n",
    "\n",
    "# averaged difference between real rating and predicted rating\n",
    "\n",
    "for id_user in range(nb_users):\n",
    "    input = Variable(training_set[id_user]).unsqueeze(0) # should keep the training set\n",
    "    target = Variable(test_set[id_user]).unsqueeze(0) # to predict the other movies user not seen yet\n",
    "    \n",
    "    if torch.sum(target.data > 0) > 0:\n",
    "        # make predictions\n",
    "        output = sae(input)\n",
    "        target.require_grad = False\n",
    "        output[target == 0] = 0 # dont want to measue the loss on the movies didnt get the actual rating from user \n",
    "        # force to 0 and difference / loss will be 0 for those entries\n",
    "        loss = criterion(output, target)\n",
    "        mean_corrector = nb_movies/float(torch.sum(target.data > 0) + 1e-10) \n",
    "        # only consider the movies that are rated in the test set, to be included in the loss\n",
    "        test_loss += np.sqrt(loss.data*mean_corrector)\n",
    "        s += 1.\n",
    "print('test loss: '+str(test_loss/s))"
   ]
  },
  {
   "cell_type": "code",
   "execution_count": null,
   "metadata": {},
   "outputs": [],
   "source": []
  }
 ],
 "metadata": {
  "accelerator": "GPU",
  "colab": {
   "collapsed_sections": [],
   "name": "AutoEncoders.ipynb",
   "provenance": [],
   "toc_visible": true
  },
  "kernelspec": {
   "display_name": "Python 3",
   "language": "python",
   "name": "python3"
  },
  "language_info": {
   "codemirror_mode": {
    "name": "ipython",
    "version": 3
   },
   "file_extension": ".py",
   "mimetype": "text/x-python",
   "name": "python",
   "nbconvert_exporter": "python",
   "pygments_lexer": "ipython3",
   "version": "3.7.6"
  }
 },
 "nbformat": 4,
 "nbformat_minor": 4
}
