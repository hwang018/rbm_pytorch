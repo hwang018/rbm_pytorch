{
 "cells": [
  {
   "cell_type": "markdown",
   "metadata": {
    "colab_type": "text",
    "id": "K4f4JG1gdKqj"
   },
   "source": [
    "# AutoEncoders"
   ]
  },
  {
   "cell_type": "code",
   "execution_count": 2,
   "metadata": {
    "colab": {
     "base_uri": "https://localhost:8080/",
     "height": 646
    },
    "colab_type": "code",
    "id": "rjOPzue7FCXJ",
    "outputId": "b0f0b631-51bf-49e8-9ad6-947a0bd3d832"
   },
   "outputs": [],
   "source": [
    "#!wget \"http://files.grouplens.org/datasets/movielens/ml-100k.zip\"\n",
    "#!unzip ml-100k.zip"
   ]
  },
  {
   "cell_type": "markdown",
   "metadata": {
    "colab_type": "text",
    "id": "EOBJ8UCXdY0g"
   },
   "source": [
    "## Importing the libraries"
   ]
  },
  {
   "cell_type": "code",
   "execution_count": 3,
   "metadata": {
    "colab": {},
    "colab_type": "code",
    "id": "_LvGeU1CeCtg"
   },
   "outputs": [],
   "source": [
    "import numpy as np\n",
    "import pandas as pd\n",
    "import torch\n",
    "import torch.nn as nn\n",
    "import torch.nn.parallel\n",
    "import torch.optim as optim\n",
    "import torch.utils.data\n",
    "from torch.autograd import Variable"
   ]
  },
  {
   "cell_type": "markdown",
   "metadata": {
    "colab_type": "text",
    "id": "yTIbE2tkdkwP"
   },
   "source": [
    "## Preparing the training set and the test set\n"
   ]
  },
  {
   "cell_type": "code",
   "execution_count": 4,
   "metadata": {
    "colab": {},
    "colab_type": "code",
    "id": "2usLKJBEgPE2"
   },
   "outputs": [],
   "source": [
    "# this train, test set contains all users' ratings, we split each person's ratings into train and test\n",
    "# hide a portion of items rated by each user as test set\n",
    "\n",
    "training_set = pd.read_csv('ml-100k/u1.base', delimiter = '\\t',header=None)\n",
    "test_set = pd.read_csv('ml-100k/u1.test', delimiter = '\\t',header=None)"
   ]
  },
  {
   "cell_type": "code",
   "execution_count": 5,
   "metadata": {},
   "outputs": [],
   "source": [
    "training_set = np.array(training_set, dtype = 'int')\n",
    "test_set = np.array(test_set, dtype = 'int')"
   ]
  },
  {
   "cell_type": "markdown",
   "metadata": {},
   "source": [
    "## General method to train-test split for recommender system\n",
    "For a train-test ratio of 0.8/0.2, for each user, we sample his 80% ratings in training set, the rest 20% as test set."
   ]
  },
  {
   "cell_type": "markdown",
   "metadata": {},
   "source": [
    "## Load raw dataset, book rating recommendation dataset"
   ]
  },
  {
   "cell_type": "code",
   "execution_count": 158,
   "metadata": {},
   "outputs": [],
   "source": [
    "import sys\n",
    "#insert search path for packages\n",
    "sys.path.insert(0, '../common/')\n",
    "import util as util\n",
    "import load_data as loader\n",
    "\n",
    "config = {'ratings':'../dataset/BX-Book-Ratings.csv',\n",
    "          'users':'../dataset/BX-Users.csv',\n",
    "          'books':'../dataset/BX-Books.csv'}\n",
    "\n",
    "ratings = loader.load_data(config)"
   ]
  },
  {
   "cell_type": "code",
   "execution_count": 163,
   "metadata": {},
   "outputs": [],
   "source": [
    "from sklearn.model_selection import train_test_split"
   ]
  },
  {
   "cell_type": "code",
   "execution_count": 210,
   "metadata": {},
   "outputs": [],
   "source": [
    "ratings_sampled = ratings.sample(100000)"
   ]
  },
  {
   "cell_type": "code",
   "execution_count": 211,
   "metadata": {},
   "outputs": [],
   "source": [
    "# first we directly split the whole user-item pairs\n",
    "train, test = train_test_split(ratings_sampled, test_size=0.25, random_state=42)"
   ]
  },
  {
   "cell_type": "code",
   "execution_count": 212,
   "metadata": {},
   "outputs": [],
   "source": [
    "training_set = np.array(train, dtype = 'int')\n",
    "test_set = np.array(test, dtype = 'int')"
   ]
  },
  {
   "cell_type": "code",
   "execution_count": 172,
   "metadata": {},
   "outputs": [],
   "source": [
    "# then we create the required format for torch tensors"
   ]
  },
  {
   "cell_type": "markdown",
   "metadata": {
    "colab_type": "text",
    "id": "zCf8HjSydk4s"
   },
   "source": [
    "## Getting the number of users and movies\n"
   ]
  },
  {
   "cell_type": "code",
   "execution_count": 18,
   "metadata": {
    "colab": {},
    "colab_type": "code",
    "id": "gPaGZqdniC5m"
   },
   "outputs": [],
   "source": [
    "nb_users = int(max(max(training_set[:, 0], ), max(test_set[:, 0])))\n",
    "nb_movies = int(max(max(training_set[:, 1], ), max(test_set[:, 1])))"
   ]
  },
  {
   "cell_type": "markdown",
   "metadata": {
    "colab_type": "text",
    "id": "J-w4-hVidlAm"
   },
   "source": [
    "## Converting the data into an array with users in lines and movies in columns\n"
   ]
  },
  {
   "cell_type": "code",
   "execution_count": 22,
   "metadata": {
    "colab": {},
    "colab_type": "code",
    "id": "-wASs2YFiDaa"
   },
   "outputs": [],
   "source": [
    "def convert(data):\n",
    "    new_data = []\n",
    "    for id_users in range(nb_users+1):\n",
    "        # each user's watched movies\n",
    "        # data[:,0], first column, all rows column users\n",
    "        id_items = data[:,1][data[:,0] == id_users]\n",
    "        # each user's rating for that item\n",
    "        id_ratings = data[:,2][data[:,0] == id_users]\n",
    "        ratings = np.zeros(nb_movies)\n",
    "        # the positions of these items are filled with ratings, creating the matrix\n",
    "        ratings[id_items-1] = id_ratings\n",
    "        new_data.append(list(ratings))\n",
    "    return new_data"
   ]
  },
  {
   "cell_type": "code",
   "execution_count": 23,
   "metadata": {},
   "outputs": [
    {
     "name": "stdout",
     "output_type": "stream",
     "text": [
      "CPU times: user 181 ms, sys: 16 ms, total: 197 ms\n",
      "Wall time: 197 ms\n"
     ]
    }
   ],
   "source": [
    "%%time\n",
    "training_set = convert(training_set)"
   ]
  },
  {
   "cell_type": "code",
   "execution_count": 24,
   "metadata": {},
   "outputs": [],
   "source": [
    "test_set = convert(test_set)"
   ]
  },
  {
   "cell_type": "markdown",
   "metadata": {
    "colab_type": "text",
    "id": "AMmhuUpldlHo"
   },
   "source": [
    "## Converting the data into Torch tensors\n"
   ]
  },
  {
   "cell_type": "code",
   "execution_count": 26,
   "metadata": {
    "colab": {},
    "colab_type": "code",
    "id": "TwD-KD8yiEEw"
   },
   "outputs": [],
   "source": [
    "training_set = torch.FloatTensor(training_set)\n",
    "test_set = torch.FloatTensor(test_set)"
   ]
  },
  {
   "cell_type": "markdown",
   "metadata": {
    "colab_type": "text",
    "id": "6kkL8NkkdlZj"
   },
   "source": [
    "## Creating the architecture of the Neural Network\n"
   ]
  },
  {
   "cell_type": "code",
   "execution_count": 27,
   "metadata": {
    "colab": {},
    "colab_type": "code",
    "id": "oU2nyh76iE6M"
   },
   "outputs": [],
   "source": [
    "class SAE(nn.Module):\n",
    "    def __init__(self, ):\n",
    "        super(SAE, self).__init__()\n",
    "        self.fc1 = nn.Linear(nb_movies, 20)\n",
    "        self.fc2 = nn.Linear(20, 10)\n",
    "        self.fc3 = nn.Linear(10, 20)\n",
    "        self.fc4 = nn.Linear(20, nb_movies)\n",
    "        self.activation = nn.Sigmoid()\n",
    "    def forward(self, x):\n",
    "        x = self.activation(self.fc1(x))\n",
    "        x = self.activation(self.fc2(x))\n",
    "        x = self.activation(self.fc3(x))\n",
    "        x = self.fc4(x)\n",
    "        return x\n",
    "sae = SAE()\n",
    "criterion = nn.MSELoss()\n",
    "optimizer = optim.RMSprop(sae.parameters(), lr = 0.01, weight_decay = 0.5)"
   ]
  },
  {
   "cell_type": "markdown",
   "metadata": {
    "colab_type": "text",
    "id": "7gy59alAdloL"
   },
   "source": [
    "## Training the SAE\n"
   ]
  },
  {
   "cell_type": "code",
   "execution_count": 28,
   "metadata": {
    "colab": {
     "base_uri": "https://localhost:8080/",
     "height": 1000
    },
    "colab_type": "code",
    "id": "FEz9hRaciFTs",
    "outputId": "0f6ed0d0-09c4-46c0-bfe6-70031d76b491"
   },
   "outputs": [
    {
     "name": "stdout",
     "output_type": "stream",
     "text": [
      "epoch: 1loss: tensor(1.7723)\n",
      "epoch: 2loss: tensor(1.0972)\n",
      "epoch: 3loss: tensor(1.0542)\n",
      "epoch: 4loss: tensor(1.0396)\n",
      "epoch: 5loss: tensor(1.0330)\n",
      "epoch: 6loss: tensor(1.0280)\n",
      "epoch: 7loss: tensor(1.0254)\n",
      "epoch: 8loss: tensor(1.0232)\n",
      "epoch: 9loss: tensor(1.0221)\n",
      "epoch: 10loss: tensor(1.0206)\n",
      "epoch: 11loss: tensor(1.0201)\n",
      "epoch: 12loss: tensor(1.0194)\n",
      "epoch: 13loss: tensor(1.0190)\n",
      "epoch: 14loss: tensor(1.0186)\n",
      "epoch: 15loss: tensor(1.0183)\n",
      "epoch: 16loss: tensor(1.0178)\n",
      "epoch: 17loss: tensor(1.0178)\n",
      "epoch: 18loss: tensor(1.0175)\n",
      "epoch: 19loss: tensor(1.0172)\n",
      "epoch: 20loss: tensor(1.0173)\n",
      "epoch: 21loss: tensor(1.0171)\n",
      "epoch: 22loss: tensor(1.0171)\n",
      "epoch: 23loss: tensor(1.0169)\n",
      "epoch: 24loss: tensor(1.0168)\n",
      "epoch: 25loss: tensor(1.0167)\n",
      "epoch: 26loss: tensor(1.0169)\n",
      "epoch: 27loss: tensor(1.0167)\n",
      "epoch: 28loss: tensor(1.0165)\n",
      "epoch: 29loss: tensor(1.0163)\n",
      "epoch: 30loss: tensor(1.0163)\n",
      "epoch: 31loss: tensor(1.0159)\n",
      "epoch: 32loss: tensor(1.0156)\n",
      "epoch: 33loss: tensor(1.0147)\n",
      "epoch: 34loss: tensor(1.0142)\n",
      "epoch: 35loss: tensor(1.0126)\n",
      "epoch: 36loss: tensor(1.0111)\n",
      "epoch: 37loss: tensor(1.0094)\n",
      "epoch: 38loss: tensor(1.0066)\n",
      "epoch: 39loss: tensor(1.0030)\n",
      "epoch: 40loss: tensor(0.9995)\n",
      "epoch: 41loss: tensor(0.9990)\n",
      "epoch: 42loss: tensor(0.9959)\n",
      "epoch: 43loss: tensor(0.9937)\n",
      "epoch: 44loss: tensor(0.9947)\n",
      "epoch: 45loss: tensor(0.9959)\n",
      "epoch: 46loss: tensor(0.9945)\n",
      "epoch: 47loss: tensor(0.9900)\n",
      "epoch: 48loss: tensor(0.9886)\n",
      "epoch: 49loss: tensor(0.9918)\n",
      "epoch: 50loss: tensor(0.9911)\n",
      "epoch: 51loss: tensor(0.9858)\n",
      "epoch: 52loss: tensor(0.9848)\n",
      "epoch: 53loss: tensor(0.9819)\n",
      "epoch: 54loss: tensor(0.9836)\n",
      "epoch: 55loss: tensor(0.9812)\n",
      "epoch: 56loss: tensor(0.9814)\n",
      "epoch: 57loss: tensor(0.9805)\n",
      "epoch: 58loss: tensor(0.9820)\n",
      "epoch: 59loss: tensor(0.9758)\n",
      "epoch: 60loss: tensor(0.9740)\n",
      "epoch: 61loss: tensor(0.9701)\n",
      "epoch: 62loss: tensor(0.9677)\n",
      "epoch: 63loss: tensor(0.9685)\n",
      "epoch: 64loss: tensor(0.9634)\n",
      "epoch: 65loss: tensor(0.9600)\n",
      "epoch: 66loss: tensor(0.9595)\n",
      "epoch: 67loss: tensor(0.9593)\n",
      "epoch: 68loss: tensor(0.9555)\n",
      "epoch: 69loss: tensor(0.9547)\n",
      "epoch: 70loss: tensor(0.9539)\n",
      "epoch: 71loss: tensor(0.9540)\n",
      "epoch: 72loss: tensor(0.9501)\n",
      "epoch: 73loss: tensor(0.9514)\n",
      "epoch: 74loss: tensor(0.9463)\n",
      "epoch: 75loss: tensor(0.9483)\n",
      "epoch: 76loss: tensor(0.9469)\n",
      "epoch: 77loss: tensor(0.9455)\n",
      "epoch: 78loss: tensor(0.9414)\n",
      "epoch: 79loss: tensor(0.9477)\n",
      "epoch: 80loss: tensor(0.9437)\n",
      "epoch: 81loss: tensor(0.9409)\n",
      "epoch: 82loss: tensor(0.9411)\n",
      "epoch: 83loss: tensor(0.9434)\n",
      "epoch: 84loss: tensor(0.9394)\n",
      "epoch: 85loss: tensor(0.9389)\n",
      "epoch: 86loss: tensor(0.9410)\n",
      "epoch: 87loss: tensor(0.9381)\n",
      "epoch: 88loss: tensor(0.9356)\n",
      "epoch: 89loss: tensor(0.9382)\n",
      "epoch: 90loss: tensor(0.9386)\n",
      "epoch: 91loss: tensor(0.9346)\n",
      "epoch: 92loss: tensor(0.9324)\n",
      "epoch: 93loss: tensor(0.9353)\n",
      "epoch: 94loss: tensor(0.9346)\n",
      "epoch: 95loss: tensor(0.9353)\n",
      "epoch: 96loss: tensor(0.9355)\n",
      "epoch: 97loss: tensor(0.9355)\n",
      "epoch: 98loss: tensor(0.9319)\n",
      "epoch: 99loss: tensor(0.9313)\n",
      "epoch: 100loss: tensor(0.9323)\n",
      "epoch: 101loss: tensor(0.9304)\n",
      "epoch: 102loss: tensor(0.9299)\n",
      "epoch: 103loss: tensor(0.9334)\n",
      "epoch: 104loss: tensor(0.9309)\n",
      "epoch: 105loss: tensor(0.9297)\n",
      "epoch: 106loss: tensor(0.9277)\n",
      "epoch: 107loss: tensor(0.9274)\n",
      "epoch: 108loss: tensor(0.9264)\n",
      "epoch: 109loss: tensor(0.9270)\n",
      "epoch: 110loss: tensor(0.9268)\n",
      "epoch: 111loss: tensor(0.9273)\n",
      "epoch: 112loss: tensor(0.9316)\n",
      "epoch: 113loss: tensor(0.9293)\n",
      "epoch: 114loss: tensor(0.9271)\n",
      "epoch: 115loss: tensor(0.9269)\n",
      "epoch: 116loss: tensor(0.9285)\n",
      "epoch: 117loss: tensor(0.9266)\n",
      "epoch: 118loss: tensor(0.9257)\n",
      "epoch: 119loss: tensor(0.9262)\n",
      "epoch: 120loss: tensor(0.9262)\n",
      "epoch: 121loss: tensor(0.9245)\n",
      "epoch: 122loss: tensor(0.9246)\n",
      "epoch: 123loss: tensor(0.9266)\n",
      "epoch: 124loss: tensor(0.9248)\n",
      "epoch: 125loss: tensor(0.9236)\n",
      "epoch: 126loss: tensor(0.9242)\n",
      "epoch: 127loss: tensor(0.9226)\n",
      "epoch: 128loss: tensor(0.9223)\n",
      "epoch: 129loss: tensor(0.9218)\n",
      "epoch: 130loss: tensor(0.9241)\n",
      "epoch: 131loss: tensor(0.9232)\n",
      "epoch: 132loss: tensor(0.9215)\n",
      "epoch: 133loss: tensor(0.9221)\n",
      "epoch: 134loss: tensor(0.9238)\n",
      "epoch: 135loss: tensor(0.9221)\n",
      "epoch: 136loss: tensor(0.9202)\n",
      "epoch: 137loss: tensor(0.9207)\n",
      "epoch: 138loss: tensor(0.9199)\n",
      "epoch: 139loss: tensor(0.9200)\n",
      "epoch: 140loss: tensor(0.9208)\n",
      "epoch: 141loss: tensor(0.9200)\n",
      "epoch: 142loss: tensor(0.9187)\n",
      "epoch: 143loss: tensor(0.9183)\n",
      "epoch: 144loss: tensor(0.9190)\n",
      "epoch: 145loss: tensor(0.9179)\n",
      "epoch: 146loss: tensor(0.9176)\n",
      "epoch: 147loss: tensor(0.9172)\n",
      "epoch: 148loss: tensor(0.9166)\n",
      "epoch: 149loss: tensor(0.9177)\n",
      "epoch: 150loss: tensor(0.9186)\n",
      "epoch: 151loss: tensor(0.9178)\n",
      "epoch: 152loss: tensor(0.9161)\n",
      "epoch: 153loss: tensor(0.9162)\n",
      "epoch: 154loss: tensor(0.9168)\n",
      "epoch: 155loss: tensor(0.9154)\n",
      "epoch: 156loss: tensor(0.9160)\n",
      "epoch: 157loss: tensor(0.9158)\n",
      "epoch: 158loss: tensor(0.9157)\n",
      "epoch: 159loss: tensor(0.9165)\n",
      "epoch: 160loss: tensor(0.9156)\n",
      "epoch: 161loss: tensor(0.9146)\n",
      "epoch: 162loss: tensor(0.9143)\n",
      "epoch: 163loss: tensor(0.9139)\n",
      "epoch: 164loss: tensor(0.9142)\n",
      "epoch: 165loss: tensor(0.9148)\n",
      "epoch: 166loss: tensor(0.9144)\n",
      "epoch: 167loss: tensor(0.9138)\n",
      "epoch: 168loss: tensor(0.9148)\n",
      "epoch: 169loss: tensor(0.9146)\n",
      "epoch: 170loss: tensor(0.9134)\n",
      "epoch: 171loss: tensor(0.9137)\n",
      "epoch: 172loss: tensor(0.9150)\n",
      "epoch: 173loss: tensor(0.9129)\n",
      "epoch: 174loss: tensor(0.9126)\n",
      "epoch: 175loss: tensor(0.9127)\n",
      "epoch: 176loss: tensor(0.9123)\n",
      "epoch: 177loss: tensor(0.9124)\n",
      "epoch: 178loss: tensor(0.9133)\n",
      "epoch: 179loss: tensor(0.9123)\n",
      "epoch: 180loss: tensor(0.9123)\n",
      "epoch: 181loss: tensor(0.9117)\n",
      "epoch: 182loss: tensor(0.9116)\n",
      "epoch: 183loss: tensor(0.9115)\n",
      "epoch: 184loss: tensor(0.9111)\n",
      "epoch: 185loss: tensor(0.9115)\n",
      "epoch: 186loss: tensor(0.9115)\n",
      "epoch: 187loss: tensor(0.9112)\n",
      "epoch: 188loss: tensor(0.9111)\n",
      "epoch: 189loss: tensor(0.9126)\n",
      "epoch: 190loss: tensor(0.9120)\n",
      "epoch: 191loss: tensor(0.9109)\n",
      "epoch: 192loss: tensor(0.9104)\n",
      "epoch: 193loss: tensor(0.9101)\n",
      "epoch: 194loss: tensor(0.9097)\n",
      "epoch: 195loss: tensor(0.9100)\n",
      "epoch: 196loss: tensor(0.9098)\n",
      "epoch: 197loss: tensor(0.9100)\n",
      "epoch: 198loss: tensor(0.9108)\n",
      "epoch: 199loss: tensor(0.9096)\n",
      "epoch: 200loss: tensor(0.9094)\n"
     ]
    }
   ],
   "source": [
    "nb_epoch = 200\n",
    "for epoch in range(1, nb_epoch + 1):\n",
    "    train_loss = 0\n",
    "    s = 0.\n",
    "    # s is the number of users who rated at least 1 movies\n",
    "    for id_user in range(nb_users):\n",
    "        input = Variable(training_set[id_user]).unsqueeze(0)\n",
    "        target = input.clone()\n",
    "        if torch.sum(target.data > 0) > 0:\n",
    "            output = sae(input)\n",
    "            target.require_grad = False\n",
    "            output[target == 0] = 0\n",
    "            loss = criterion(output, target)\n",
    "            mean_corrector = nb_movies/float(torch.sum(target.data > 0) + 1e-10) #making this anyway not equal to 0, as this will be a denominator\n",
    "            #mean_corrector is the avg of the error, only considering the movies having ratings (non-zero ratings) for computing mean of error\n",
    "            loss.backward() # decide the direction the increment of weights\n",
    "            #this call will just computing all the gradients required\n",
    "            train_loss += np.sqrt(loss.data*mean_corrector)\n",
    "            s += 1.\n",
    "            optimizer.step() # decide the amount to update the weights\n",
    "            \n",
    "    print('epoch: '+str(epoch)+' loss: '+ str(train_loss/s))"
   ]
  },
  {
   "cell_type": "markdown",
   "metadata": {
    "colab_type": "text",
    "id": "Bak5uc8gd-gX"
   },
   "source": [
    "## Testing the SAE\n"
   ]
  },
  {
   "cell_type": "code",
   "execution_count": 29,
   "metadata": {
    "colab": {
     "base_uri": "https://localhost:8080/",
     "height": 34
    },
    "colab_type": "code",
    "id": "5ztvzYRtiGCz",
    "outputId": "d0e8ea8b-9ac4-40e5-a19a-7fcfc6934d61"
   },
   "outputs": [
    {
     "name": "stdout",
     "output_type": "stream",
     "text": [
      "test loss: tensor(0.9498)\n"
     ]
    }
   ],
   "source": [
    "test_loss = 0\n",
    "s = 0.\n",
    "\n",
    "# averaged difference between real rating and predicted rating\n",
    "\n",
    "for id_user in range(nb_users):\n",
    "    input = Variable(training_set[id_user]).unsqueeze(0) # should keep the training set\n",
    "    target = Variable(test_set[id_user]).unsqueeze(0) # to predict the other movies user not seen yet\n",
    "    \n",
    "    if torch.sum(target.data > 0) > 0:\n",
    "        # make predictions\n",
    "        output = sae(input)\n",
    "        target.require_grad = False\n",
    "        output[target == 0] = 0 # dont want to measue the loss on the movies didnt get the actual rating from user \n",
    "        # force to 0 and difference / loss will be 0 for those entries\n",
    "        loss = criterion(output, target)\n",
    "        mean_corrector = nb_movies/float(torch.sum(target.data > 0) + 1e-10) \n",
    "        # only consider the movies that are rated in the test set, to be included in the loss\n",
    "        test_loss += np.sqrt(loss.data*mean_corrector)\n",
    "        s += 1.\n",
    "print('test loss: '+str(test_loss/s))"
   ]
  },
  {
   "cell_type": "code",
   "execution_count": null,
   "metadata": {},
   "outputs": [],
   "source": []
  },
  {
   "cell_type": "code",
   "execution_count": null,
   "metadata": {},
   "outputs": [],
   "source": []
  }
 ],
 "metadata": {
  "accelerator": "GPU",
  "colab": {
   "collapsed_sections": [],
   "name": "AutoEncoders.ipynb",
   "provenance": [],
   "toc_visible": true
  },
  "kernelspec": {
   "display_name": "Python 3",
   "language": "python",
   "name": "python3"
  },
  "language_info": {
   "codemirror_mode": {
    "name": "ipython",
    "version": 3
   },
   "file_extension": ".py",
   "mimetype": "text/x-python",
   "name": "python",
   "nbconvert_exporter": "python",
   "pygments_lexer": "ipython3",
   "version": "3.7.6"
  }
 },
 "nbformat": 4,
 "nbformat_minor": 4
}
